# EHR-Heart Project: Data Exploration

import pandas as pd
import matplotlib.pyplot as plt
import seaborn as sns

# Load dataset
df = pd.read_csv("heart.csv")

# Basic info
print(df.info())
print(df.describe())

# Missing values
print("Missing values per column:")
print(df.isnull().sum())

# Correlation matrix
plt.figure(figsize=(10, 8))
sns.heatmap(df.corr(), annot=True, fmt=".2f", cmap="coolwarm")
plt.title("Feature Correlation Heatmap")
plt.show()

# Class balance
sns.countplot(x='target', data=df)
plt.title("Distribution of Target Variable")
plt.show()